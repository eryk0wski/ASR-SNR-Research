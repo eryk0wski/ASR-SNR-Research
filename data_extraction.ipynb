{
 "cells": [
  {
   "cell_type": "code",
   "execution_count": 2,
   "metadata": {},
   "outputs": [],
   "source": [
    "from audio_mixer import mixer"
   ]
  },
  {
   "cell_type": "markdown",
   "metadata": {},
   "source": [
    "### Creating sample audio files with different SNR values to compare manualy"
   ]
  },
  {
   "cell_type": "code",
   "execution_count": 17,
   "metadata": {},
   "outputs": [],
   "source": [
    "\n",
    "signal_file_path = \"./data/commons_pl/clips/common_voice_pl_25884354.mp3\"\n",
    "noise_file_path = \"./data/VISC_Dataset_SON/1_15.wav\"\n",
    "folder_path = \"./data/example_SNR_audio/\"\n",
    "save_path = '_SNR_audio_file.wav'\n",
    "\n",
    "SNR_list = [0.001, 0.01, 0.1, 1, 10, 30, 55, 88, 120]\n",
    "for SNR in SNR_list:\n",
    "    mixer(signal_file_path, noise_file_path, SNR, folder_path + str(SNR) + save_path)\n",
    "\n",
    "\n"
   ]
  },
  {
   "cell_type": "markdown",
   "metadata": {},
   "source": [
    "# Creating test dataset for future research"
   ]
  },
  {
   "cell_type": "markdown",
   "metadata": {},
   "source": [
    "### Merging sound files into one folder"
   ]
  },
  {
   "cell_type": "code",
   "execution_count": 2,
   "metadata": {},
   "outputs": [],
   "source": [
    "# Mozilla commons dataset path\n",
    "commons_path = \"./data/commons_pl/clips/\"\n",
    "# Librispeech dataset path\n",
    "librispeech_path = \"./data/mls_polish/train/\""
   ]
  }
 ],
 "metadata": {
  "kernelspec": {
   "display_name": "Magisterka",
   "language": "python",
   "name": "python3"
  },
  "language_info": {
   "codemirror_mode": {
    "name": "ipython",
    "version": 3
   },
   "file_extension": ".py",
   "mimetype": "text/x-python",
   "name": "python",
   "nbconvert_exporter": "python",
   "pygments_lexer": "ipython3",
   "version": "3.11.0"
  }
 },
 "nbformat": 4,
 "nbformat_minor": 2
}
